{
 "cells": [
  {
   "cell_type": "markdown",
   "metadata": {
    "id": "BuyM4I2f-FrW"
   },
   "source": [
    "# Split Learning and Label Leakage"
   ]
  },
  {
   "cell_type": "code",
   "execution_count": 1,
   "metadata": {},
   "outputs": [],
   "source": [
    "import sys\n",
    "import os"
   ]
  },
  {
   "cell_type": "code",
   "execution_count": 2,
   "metadata": {
    "id": "48I_xRo9-Hez"
   },
   "outputs": [],
   "source": [
    "import numpy as np\n",
    "import pandas as pd\n",
    "import torch\n",
    "import torch.nn as nn\n",
    "import torch.optim as optim\n",
    "from torch.utils.data.dataset import Dataset\n",
    "from sklearn.preprocessing import StandardScaler\n",
    "from sklearn.model_selection import train_test_split\n",
    "from sklearn.metrics import roc_auc_score,roc_curve, auc\n",
    "\n",
    "# from utils.utils import NumpyDataset"
   ]
  },
  {
   "cell_type": "code",
   "execution_count": 3,
   "metadata": {},
   "outputs": [],
   "source": [
    "class NumpyDataset(Dataset):\n",
    "    \"\"\"This class allows you to convert numpy.array to torch.Dataset\n",
    "\n",
    "    Args:\n",
    "        x (np.array):\n",
    "        y (np.array):\n",
    "        transform (torch.transform):\n",
    "\n",
    "    Attriutes\n",
    "        x (np.array):\n",
    "        y (np.array):\n",
    "        transform (torch.transform):\n",
    "    \"\"\"\n",
    "\n",
    "    def __init__(self, x, y=None, transform=None, return_idx=False):\n",
    "        self.x = x\n",
    "        self.y = y\n",
    "        self.transform = transform\n",
    "        self.return_idx = return_idx\n",
    "\n",
    "    def __getitem__(self, index):\n",
    "        x = self.x[index]\n",
    "        if self.y is not None:\n",
    "            y = self.y[index]\n",
    "\n",
    "        if self.transform is not None:\n",
    "            x = self.transform(x)\n",
    "\n",
    "        if not self.return_idx:\n",
    "            if self.y is not None:\n",
    "                return x, y\n",
    "            else:\n",
    "                return x\n",
    "        else:\n",
    "            if self.y is not None:\n",
    "                return index, x, y\n",
    "            else:\n",
    "                return index, x\n",
    "\n",
    "    def __len__(self):\n",
    "        \"\"\"get the number of rows of self.x\"\"\"\n",
    "        return len(self.x)"
   ]
  },
  {
   "cell_type": "code",
   "execution_count": 4,
   "metadata": {
    "id": "c6HcMly6_Yq9"
   },
   "outputs": [],
   "source": [
    "class FirstNet(nn.Module):\n",
    "    def __init__(self, train_features, hidden_dim):\n",
    "        super(FirstNet, self).__init__()\n",
    "        self.L1 = nn.Linear(train_features.shape[-1], hidden_dim)\n",
    "\n",
    "    def forward(self, x):\n",
    "        x = self.L1(x)\n",
    "        x = nn.functional.relu(x)\n",
    "        return x\n",
    "\n",
    "\n",
    "class SecondNet(nn.Module):\n",
    "    def __init__(self, hidden_dim):\n",
    "        super(SecondNet, self).__init__()\n",
    "        self.L2 = nn.Linear(hidden_dim, 1)\n",
    "\n",
    "    def forward(self, x):\n",
    "        x = self.L2(x)\n",
    "        x = torch.sigmoid(x)\n",
    "        return x\n",
    "    \n",
    "class SurrogateNet(nn.Module):\n",
    "    def __init__(self, hidden_dim):\n",
    "        super(SurrogateNet, self).__init__()\n",
    "        self.L2 = nn.Linear(hidden_dim, 2)\n",
    "\n",
    "    def forward(self, x):\n",
    "        x = self.L2(x)\n",
    "        # x = torch.sigmoid(x)\n",
    "        return x"
   ]
  },
  {
   "cell_type": "markdown",
   "metadata": {
    "id": "l3jrDrel_zsO"
   },
   "source": [
    "## Parameters and Pre-processing"
   ]
  },
  {
   "cell_type": "code",
   "execution_count": 5,
   "metadata": {
    "colab": {
     "base_uri": "https://localhost:8080/"
    },
    "id": "YuqeDaJd_aEB",
    "outputId": "d138fcd9-e252-4ac4-a699-666680e74b99"
   },
   "outputs": [
    {
     "data": {
      "text/plain": [
       "<torch._C.Generator at 0x7f785ba8b650>"
      ]
     },
     "execution_count": 5,
     "metadata": {},
     "output_type": "execute_result"
    }
   ],
   "source": [
    "batch_size = 512\n",
    "hidden_dim = 16\n",
    "torch.manual_seed(10)"
   ]
  },
  {
   "cell_type": "code",
   "execution_count": 6,
   "metadata": {
    "colab": {
     "base_uri": "https://localhost:8080/"
    },
    "id": "UCvh_MAW_j8O",
    "outputId": "5dbae678-8b71-4e75-da28-bacdaac51e91"
   },
   "outputs": [
    {
     "name": "stdout",
     "output_type": "stream",
     "text": [
      "Examples:\n",
      "    Total: 284807\n",
      "    Positive: 492 (0.17% of total)\n",
      "\n"
     ]
    },
    {
     "data": {
      "text/html": [
       "<div>\n",
       "<style scoped>\n",
       "    .dataframe tbody tr th:only-of-type {\n",
       "        vertical-align: middle;\n",
       "    }\n",
       "\n",
       "    .dataframe tbody tr th {\n",
       "        vertical-align: top;\n",
       "    }\n",
       "\n",
       "    .dataframe thead th {\n",
       "        text-align: right;\n",
       "    }\n",
       "</style>\n",
       "<table border=\"1\" class=\"dataframe\">\n",
       "  <thead>\n",
       "    <tr style=\"text-align: right;\">\n",
       "      <th></th>\n",
       "      <th>V1</th>\n",
       "      <th>V2</th>\n",
       "      <th>V3</th>\n",
       "      <th>V4</th>\n",
       "      <th>V5</th>\n",
       "      <th>V6</th>\n",
       "      <th>V7</th>\n",
       "      <th>V8</th>\n",
       "      <th>V9</th>\n",
       "      <th>V10</th>\n",
       "      <th>...</th>\n",
       "      <th>V21</th>\n",
       "      <th>V22</th>\n",
       "      <th>V23</th>\n",
       "      <th>V24</th>\n",
       "      <th>V25</th>\n",
       "      <th>V26</th>\n",
       "      <th>V27</th>\n",
       "      <th>V28</th>\n",
       "      <th>Class</th>\n",
       "      <th>Log Ammount</th>\n",
       "    </tr>\n",
       "  </thead>\n",
       "  <tbody>\n",
       "    <tr>\n",
       "      <th>0</th>\n",
       "      <td>-1.359807</td>\n",
       "      <td>-0.072781</td>\n",
       "      <td>2.536347</td>\n",
       "      <td>1.378155</td>\n",
       "      <td>-0.338321</td>\n",
       "      <td>0.462388</td>\n",
       "      <td>0.239599</td>\n",
       "      <td>0.098698</td>\n",
       "      <td>0.363787</td>\n",
       "      <td>0.090794</td>\n",
       "      <td>...</td>\n",
       "      <td>-0.018307</td>\n",
       "      <td>0.277838</td>\n",
       "      <td>-0.110474</td>\n",
       "      <td>0.066928</td>\n",
       "      <td>0.128539</td>\n",
       "      <td>-0.189115</td>\n",
       "      <td>0.133558</td>\n",
       "      <td>-0.021053</td>\n",
       "      <td>0</td>\n",
       "      <td>5.008105</td>\n",
       "    </tr>\n",
       "    <tr>\n",
       "      <th>1</th>\n",
       "      <td>1.191857</td>\n",
       "      <td>0.266151</td>\n",
       "      <td>0.166480</td>\n",
       "      <td>0.448154</td>\n",
       "      <td>0.060018</td>\n",
       "      <td>-0.082361</td>\n",
       "      <td>-0.078803</td>\n",
       "      <td>0.085102</td>\n",
       "      <td>-0.255425</td>\n",
       "      <td>-0.166974</td>\n",
       "      <td>...</td>\n",
       "      <td>-0.225775</td>\n",
       "      <td>-0.638672</td>\n",
       "      <td>0.101288</td>\n",
       "      <td>-0.339846</td>\n",
       "      <td>0.167170</td>\n",
       "      <td>0.125895</td>\n",
       "      <td>-0.008983</td>\n",
       "      <td>0.014724</td>\n",
       "      <td>0</td>\n",
       "      <td>0.989913</td>\n",
       "    </tr>\n",
       "    <tr>\n",
       "      <th>2</th>\n",
       "      <td>-1.358354</td>\n",
       "      <td>-1.340163</td>\n",
       "      <td>1.773209</td>\n",
       "      <td>0.379780</td>\n",
       "      <td>-0.503198</td>\n",
       "      <td>1.800499</td>\n",
       "      <td>0.791461</td>\n",
       "      <td>0.247676</td>\n",
       "      <td>-1.514654</td>\n",
       "      <td>0.207643</td>\n",
       "      <td>...</td>\n",
       "      <td>0.247998</td>\n",
       "      <td>0.771679</td>\n",
       "      <td>0.909412</td>\n",
       "      <td>-0.689281</td>\n",
       "      <td>-0.327642</td>\n",
       "      <td>-0.139097</td>\n",
       "      <td>-0.055353</td>\n",
       "      <td>-0.059752</td>\n",
       "      <td>0</td>\n",
       "      <td>5.936641</td>\n",
       "    </tr>\n",
       "    <tr>\n",
       "      <th>3</th>\n",
       "      <td>-0.966272</td>\n",
       "      <td>-0.185226</td>\n",
       "      <td>1.792993</td>\n",
       "      <td>-0.863291</td>\n",
       "      <td>-0.010309</td>\n",
       "      <td>1.247203</td>\n",
       "      <td>0.237609</td>\n",
       "      <td>0.377436</td>\n",
       "      <td>-1.387024</td>\n",
       "      <td>-0.054952</td>\n",
       "      <td>...</td>\n",
       "      <td>-0.108300</td>\n",
       "      <td>0.005274</td>\n",
       "      <td>-0.190321</td>\n",
       "      <td>-1.175575</td>\n",
       "      <td>0.647376</td>\n",
       "      <td>-0.221929</td>\n",
       "      <td>0.062723</td>\n",
       "      <td>0.061458</td>\n",
       "      <td>0</td>\n",
       "      <td>4.816249</td>\n",
       "    </tr>\n",
       "    <tr>\n",
       "      <th>4</th>\n",
       "      <td>-1.158233</td>\n",
       "      <td>0.877737</td>\n",
       "      <td>1.548718</td>\n",
       "      <td>0.403034</td>\n",
       "      <td>-0.407193</td>\n",
       "      <td>0.095921</td>\n",
       "      <td>0.592941</td>\n",
       "      <td>-0.270533</td>\n",
       "      <td>0.817739</td>\n",
       "      <td>0.753074</td>\n",
       "      <td>...</td>\n",
       "      <td>-0.009431</td>\n",
       "      <td>0.798278</td>\n",
       "      <td>-0.137458</td>\n",
       "      <td>0.141267</td>\n",
       "      <td>-0.206010</td>\n",
       "      <td>0.502292</td>\n",
       "      <td>0.219422</td>\n",
       "      <td>0.215153</td>\n",
       "      <td>0</td>\n",
       "      <td>4.248367</td>\n",
       "    </tr>\n",
       "    <tr>\n",
       "      <th>...</th>\n",
       "      <td>...</td>\n",
       "      <td>...</td>\n",
       "      <td>...</td>\n",
       "      <td>...</td>\n",
       "      <td>...</td>\n",
       "      <td>...</td>\n",
       "      <td>...</td>\n",
       "      <td>...</td>\n",
       "      <td>...</td>\n",
       "      <td>...</td>\n",
       "      <td>...</td>\n",
       "      <td>...</td>\n",
       "      <td>...</td>\n",
       "      <td>...</td>\n",
       "      <td>...</td>\n",
       "      <td>...</td>\n",
       "      <td>...</td>\n",
       "      <td>...</td>\n",
       "      <td>...</td>\n",
       "      <td>...</td>\n",
       "      <td>...</td>\n",
       "    </tr>\n",
       "    <tr>\n",
       "      <th>279863</th>\n",
       "      <td>-1.927883</td>\n",
       "      <td>1.125653</td>\n",
       "      <td>-4.518331</td>\n",
       "      <td>1.749293</td>\n",
       "      <td>-1.566487</td>\n",
       "      <td>-2.010494</td>\n",
       "      <td>-0.882850</td>\n",
       "      <td>0.697211</td>\n",
       "      <td>-2.064945</td>\n",
       "      <td>-5.587794</td>\n",
       "      <td>...</td>\n",
       "      <td>0.778584</td>\n",
       "      <td>-0.319189</td>\n",
       "      <td>0.639419</td>\n",
       "      <td>-0.294885</td>\n",
       "      <td>0.537503</td>\n",
       "      <td>0.788395</td>\n",
       "      <td>0.292680</td>\n",
       "      <td>0.147968</td>\n",
       "      <td>1</td>\n",
       "      <td>5.966149</td>\n",
       "    </tr>\n",
       "    <tr>\n",
       "      <th>280143</th>\n",
       "      <td>1.378559</td>\n",
       "      <td>1.289381</td>\n",
       "      <td>-5.004247</td>\n",
       "      <td>1.411850</td>\n",
       "      <td>0.442581</td>\n",
       "      <td>-1.326536</td>\n",
       "      <td>-1.413170</td>\n",
       "      <td>0.248525</td>\n",
       "      <td>-1.127396</td>\n",
       "      <td>-3.232153</td>\n",
       "      <td>...</td>\n",
       "      <td>0.370612</td>\n",
       "      <td>0.028234</td>\n",
       "      <td>-0.145640</td>\n",
       "      <td>-0.081049</td>\n",
       "      <td>0.521875</td>\n",
       "      <td>0.739467</td>\n",
       "      <td>0.389152</td>\n",
       "      <td>0.186637</td>\n",
       "      <td>1</td>\n",
       "      <td>-0.273122</td>\n",
       "    </tr>\n",
       "    <tr>\n",
       "      <th>280149</th>\n",
       "      <td>-0.676143</td>\n",
       "      <td>1.126366</td>\n",
       "      <td>-2.213700</td>\n",
       "      <td>0.468308</td>\n",
       "      <td>-1.120541</td>\n",
       "      <td>-0.003346</td>\n",
       "      <td>-2.234739</td>\n",
       "      <td>1.210158</td>\n",
       "      <td>-0.652250</td>\n",
       "      <td>-3.463891</td>\n",
       "      <td>...</td>\n",
       "      <td>0.751826</td>\n",
       "      <td>0.834108</td>\n",
       "      <td>0.190944</td>\n",
       "      <td>0.032070</td>\n",
       "      <td>-0.739695</td>\n",
       "      <td>0.471111</td>\n",
       "      <td>0.385107</td>\n",
       "      <td>0.194361</td>\n",
       "      <td>1</td>\n",
       "      <td>4.355310</td>\n",
       "    </tr>\n",
       "    <tr>\n",
       "      <th>281144</th>\n",
       "      <td>-3.113832</td>\n",
       "      <td>0.585864</td>\n",
       "      <td>-5.399730</td>\n",
       "      <td>1.817092</td>\n",
       "      <td>-0.840618</td>\n",
       "      <td>-2.943548</td>\n",
       "      <td>-2.208002</td>\n",
       "      <td>1.058733</td>\n",
       "      <td>-1.632333</td>\n",
       "      <td>-5.245984</td>\n",
       "      <td>...</td>\n",
       "      <td>0.583276</td>\n",
       "      <td>-0.269209</td>\n",
       "      <td>-0.456108</td>\n",
       "      <td>-0.183659</td>\n",
       "      <td>-0.328168</td>\n",
       "      <td>0.606116</td>\n",
       "      <td>0.884876</td>\n",
       "      <td>-0.253700</td>\n",
       "      <td>1</td>\n",
       "      <td>5.501262</td>\n",
       "    </tr>\n",
       "    <tr>\n",
       "      <th>281674</th>\n",
       "      <td>1.991976</td>\n",
       "      <td>0.158476</td>\n",
       "      <td>-2.583441</td>\n",
       "      <td>0.408670</td>\n",
       "      <td>1.151147</td>\n",
       "      <td>-0.096695</td>\n",
       "      <td>0.223050</td>\n",
       "      <td>-0.068384</td>\n",
       "      <td>0.577829</td>\n",
       "      <td>-0.888722</td>\n",
       "      <td>...</td>\n",
       "      <td>-0.164350</td>\n",
       "      <td>-0.295135</td>\n",
       "      <td>-0.072173</td>\n",
       "      <td>-0.450261</td>\n",
       "      <td>0.313267</td>\n",
       "      <td>-0.289617</td>\n",
       "      <td>0.002988</td>\n",
       "      <td>-0.015309</td>\n",
       "      <td>1</td>\n",
       "      <td>3.750233</td>\n",
       "    </tr>\n",
       "  </tbody>\n",
       "</table>\n",
       "<p>284807 rows × 30 columns</p>\n",
       "</div>"
      ],
      "text/plain": [
       "              V1        V2        V3        V4        V5        V6        V7  \\\n",
       "0      -1.359807 -0.072781  2.536347  1.378155 -0.338321  0.462388  0.239599   \n",
       "1       1.191857  0.266151  0.166480  0.448154  0.060018 -0.082361 -0.078803   \n",
       "2      -1.358354 -1.340163  1.773209  0.379780 -0.503198  1.800499  0.791461   \n",
       "3      -0.966272 -0.185226  1.792993 -0.863291 -0.010309  1.247203  0.237609   \n",
       "4      -1.158233  0.877737  1.548718  0.403034 -0.407193  0.095921  0.592941   \n",
       "...          ...       ...       ...       ...       ...       ...       ...   \n",
       "279863 -1.927883  1.125653 -4.518331  1.749293 -1.566487 -2.010494 -0.882850   \n",
       "280143  1.378559  1.289381 -5.004247  1.411850  0.442581 -1.326536 -1.413170   \n",
       "280149 -0.676143  1.126366 -2.213700  0.468308 -1.120541 -0.003346 -2.234739   \n",
       "281144 -3.113832  0.585864 -5.399730  1.817092 -0.840618 -2.943548 -2.208002   \n",
       "281674  1.991976  0.158476 -2.583441  0.408670  1.151147 -0.096695  0.223050   \n",
       "\n",
       "              V8        V9       V10  ...       V21       V22       V23  \\\n",
       "0       0.098698  0.363787  0.090794  ... -0.018307  0.277838 -0.110474   \n",
       "1       0.085102 -0.255425 -0.166974  ... -0.225775 -0.638672  0.101288   \n",
       "2       0.247676 -1.514654  0.207643  ...  0.247998  0.771679  0.909412   \n",
       "3       0.377436 -1.387024 -0.054952  ... -0.108300  0.005274 -0.190321   \n",
       "4      -0.270533  0.817739  0.753074  ... -0.009431  0.798278 -0.137458   \n",
       "...          ...       ...       ...  ...       ...       ...       ...   \n",
       "279863  0.697211 -2.064945 -5.587794  ...  0.778584 -0.319189  0.639419   \n",
       "280143  0.248525 -1.127396 -3.232153  ...  0.370612  0.028234 -0.145640   \n",
       "280149  1.210158 -0.652250 -3.463891  ...  0.751826  0.834108  0.190944   \n",
       "281144  1.058733 -1.632333 -5.245984  ...  0.583276 -0.269209 -0.456108   \n",
       "281674 -0.068384  0.577829 -0.888722  ... -0.164350 -0.295135 -0.072173   \n",
       "\n",
       "             V24       V25       V26       V27       V28  Class  Log Ammount  \n",
       "0       0.066928  0.128539 -0.189115  0.133558 -0.021053      0     5.008105  \n",
       "1      -0.339846  0.167170  0.125895 -0.008983  0.014724      0     0.989913  \n",
       "2      -0.689281 -0.327642 -0.139097 -0.055353 -0.059752      0     5.936641  \n",
       "3      -1.175575  0.647376 -0.221929  0.062723  0.061458      0     4.816249  \n",
       "4       0.141267 -0.206010  0.502292  0.219422  0.215153      0     4.248367  \n",
       "...          ...       ...       ...       ...       ...    ...          ...  \n",
       "279863 -0.294885  0.537503  0.788395  0.292680  0.147968      1     5.966149  \n",
       "280143 -0.081049  0.521875  0.739467  0.389152  0.186637      1    -0.273122  \n",
       "280149  0.032070 -0.739695  0.471111  0.385107  0.194361      1     4.355310  \n",
       "281144 -0.183659 -0.328168  0.606116  0.884876 -0.253700      1     5.501262  \n",
       "281674 -0.450261  0.313267 -0.289617  0.002988 -0.015309      1     3.750233  \n",
       "\n",
       "[284807 rows x 30 columns]"
      ]
     },
     "execution_count": 6,
     "metadata": {},
     "output_type": "execute_result"
    }
   ],
   "source": [
    "# raw_df = pd.read_csv(\n",
    "#     \"creditcard.csv\"\n",
    "# )\n",
    "raw_df = pd.read_csv(\n",
    "    \"https://storage.googleapis.com/download.tensorflow.org/data/creditcard.csv\"\n",
    ")\n",
    "raw_df_neg = raw_df[raw_df[\"Class\"] == 0]\n",
    "raw_df_pos = raw_df[raw_df[\"Class\"] == 1]\n",
    "\n",
    "down_df_neg = raw_df_neg  # .sample(40000)\n",
    "down_df = pd.concat([down_df_neg, raw_df_pos])\n",
    "\n",
    "neg, pos = np.bincount(down_df[\"Class\"])\n",
    "total = neg + pos\n",
    "print(\n",
    "    \"Examples:\\n    Total: {}\\n    Positive: {} ({:.2f}% of total)\\n\".format(\n",
    "        total, pos, 100 * pos / total\n",
    "    )\n",
    ")\n",
    "\n",
    "sample_num = total\n",
    "\n",
    "cleaned_df = down_df.copy()\n",
    "# You don't want the `Time` column.\n",
    "cleaned_df.pop(\"Time\")\n",
    "# The `Amount` column covers a huge range. Convert to log-space.\n",
    "eps = 0.001  # 0 => 0.1¢\n",
    "cleaned_df[\"Log Ammount\"] = np.log(cleaned_df.pop(\"Amount\") + eps)\n",
    "\n",
    "cleaned_df\n"
   ]
  },
  {
   "cell_type": "code",
   "execution_count": 7,
   "metadata": {},
   "outputs": [],
   "source": [
    "# Use a utility from sklearn to split and shuffle our dataset.\n",
    "train_df, test_df = train_test_split(cleaned_df, test_size=0.2)\n",
    "\n",
    "# Form np arrays of labels and features.\n",
    "train_labels = np.array(train_df.pop(\"Class\"))\n",
    "test_labels = np.array(test_df.pop(\"Class\"))\n",
    "\n",
    "train_features = np.array(train_df)\n",
    "test_features = np.array(test_df)\n",
    "\n",
    "scaler = StandardScaler()\n",
    "train_features = scaler.fit_transform(train_features)\n",
    "train_features = np.clip(train_features, -5, 5)\n",
    "\n",
    "test_features = scaler.fit_transform(test_features)\n",
    "test_features = np.clip(test_features, -5, 5)\n",
    "\n",
    "train_dataset = NumpyDataset(\n",
    "    train_features, train_labels.astype(np.float64).reshape(-1, 1)\n",
    ")\n",
    "test_dataset = NumpyDataset(\n",
    "    test_features, test_labels.astype(np.float64).reshape(-1, 1)\n",
    ")\n",
    "\n",
    "\n",
    "train_loader = torch.utils.data.DataLoader(\n",
    "    train_dataset, batch_size=batch_size, shuffle=True\n",
    ")\n",
    "test_loader = torch.utils.data.DataLoader(\n",
    "    test_dataset, batch_size=batch_size, shuffle=False\n",
    ")"
   ]
  },
  {
   "cell_type": "markdown",
   "metadata": {
    "id": "bopA4CdS_4-T"
   },
   "source": [
    "## Split Learning training"
   ]
  },
  {
   "cell_type": "code",
   "execution_count": 8,
   "metadata": {},
   "outputs": [],
   "source": [
    "client_model = FirstNet(train_features, hidden_dim)\n",
    "server_model = SecondNet(hidden_dim)\n",
    "\n",
    "client_optimizer = torch.optim.Adam(client_model.parameters(), lr=0.001)\n",
    "server_optimizer = torch.optim.Adam(server_model.parameters(), lr=0.001)\n",
    "criterion = nn.BCELoss()"
   ]
  },
  {
   "cell_type": "code",
   "execution_count": 9,
   "metadata": {},
   "outputs": [
    {
     "data": {
      "text/plain": [
       "(FirstNet(\n",
       "   (L1): Linear(in_features=29, out_features=16, bias=True)\n",
       " ),\n",
       " SecondNet(\n",
       "   (L2): Linear(in_features=16, out_features=1, bias=True)\n",
       " ))"
      ]
     },
     "execution_count": 9,
     "metadata": {},
     "output_type": "execute_result"
    }
   ],
   "source": [
    "client_model, server_model"
   ]
  },
  {
   "cell_type": "code",
   "execution_count": 10,
   "metadata": {},
   "outputs": [
    {
     "name": "stdout",
     "output_type": "stream",
     "text": [
      "Epoch 1/10, Loss: 0.1461, Accuracy: 99.82%\n",
      "Epoch 2/10, Loss: 0.0115, Accuracy: 99.91%\n",
      "Epoch 3/10, Loss: 0.0056, Accuracy: 99.93%\n",
      "Epoch 4/10, Loss: 0.0042, Accuracy: 99.94%\n",
      "Epoch 5/10, Loss: 0.0036, Accuracy: 99.94%\n",
      "Epoch 6/10, Loss: 0.0033, Accuracy: 99.94%\n",
      "Epoch 7/10, Loss: 0.0031, Accuracy: 99.94%\n",
      "Epoch 8/10, Loss: 0.0030, Accuracy: 99.94%\n",
      "Epoch 9/10, Loss: 0.0029, Accuracy: 99.94%\n",
      "Epoch 10/10, Loss: 0.0028, Accuracy: 99.95%\n"
     ]
    }
   ],
   "source": [
    "import matplotlib.pyplot as plt\n",
    "from sklearn.metrics import roc_curve, auc\n",
    "\n",
    "# Initialization\n",
    "num_epochs = 10\n",
    "train_acc_list = []\n",
    "train_loss_list = []\n",
    "all_labels = []\n",
    "all_predictions = []\n",
    "\n",
    "# Save grads, p_hats for training surrogate model use\n",
    "grads = []\n",
    "embeddings = []\n",
    "ys = []\n",
    "exp_path = f\"./exp\"\n",
    "for epoch in range(num_epochs):\n",
    "    client_model.train()\n",
    "    server_model.train()\n",
    "    correct = 0\n",
    "    total = 0\n",
    "    total_loss = 0\n",
    "    \n",
    "    for features, labels in train_loader:\n",
    "        features = features.float()\n",
    "        labels = labels.float()\n",
    "\n",
    "        batch_size = features.shape[0]\n",
    "        # Client side\n",
    "        client_optimizer.zero_grad()\n",
    "        intermediate_features = client_model(features)\n",
    "        \n",
    "        intermediate_features.retain_grad()\n",
    "        # Send to server\n",
    "        server_optimizer.zero_grad()\n",
    "        outputs = server_model(intermediate_features)\n",
    "\n",
    "        loss = criterion(outputs, labels)\n",
    "        loss.backward(retain_graph=True)\n",
    "        \n",
    "\n",
    "        grad = intermediate_features.grad.detach()\n",
    "        embeddings.append(intermediate_features.detach().cpu())\n",
    "        grads.append(grad.detach().cpu() * batch_size)\n",
    "        ys.append(labels.cpu())\n",
    "        # Update both server and client models\n",
    "        server_optimizer.step()\n",
    "        client_optimizer.step()\n",
    "\n",
    "        # Update accuracy and loss stats\n",
    "        predicted = (outputs > 0.5).float()\n",
    "        total += labels.size(0)\n",
    "        correct += (predicted == labels).sum().item()\n",
    "        total_loss += loss.item()\n",
    "\n",
    "        # Store outputs for ROC computation\n",
    "        all_labels.extend(labels.cpu().detach().numpy())\n",
    "        all_predictions.extend(outputs.cpu().detach().numpy())\n",
    "        \n",
    "    # Calculate and store average accuracy and loss for each epoch\n",
    "    epoch_acc = correct / total\n",
    "    epoch_loss = total_loss / len(train_loader)\n",
    "    train_acc_list.append(epoch_acc)\n",
    "    train_loss_list.append(epoch_loss)\n",
    "    \n",
    "    print(f\"Epoch {epoch + 1}/{num_epochs}, Loss: {epoch_loss:.4f}, Accuracy: {epoch_acc * 100:.2f}%\")\n",
    "\n",
    "\n",
    "\n",
    "    save_path = f\"{exp_path}/\"\n",
    "\n",
    "    if not os.path.exists(save_path):\n",
    "        os.makedirs(save_path)\n",
    "\n",
    "    if epoch == (num_epochs-1):\n",
    "        grads = torch.cat(grads).numpy()\n",
    "        embeddings = torch.cat(embeddings).numpy()\n",
    "\n",
    "        ys = torch.cat(ys).numpy()\n",
    "        np.savez(f\"{save_path}/grads.npz\", embeddings=embeddings, ys=ys, grads=grads)\n",
    "        torch.save(client_model.state_dict(), f\"{save_path}/client_model.pt\")\n",
    "        torch.save(server_model.state_dict(), f\"{save_path}/server_model.pt\")\n",
    "    grads = []\n",
    "    embeddings = []\n",
    "    ys = []"
   ]
  },
  {
   "cell_type": "code",
   "execution_count": 11,
   "metadata": {},
   "outputs": [
    {
     "data": {
      "image/png": "[encoded data removed]",
      "text/plain": [
       "<Figure size 1800x500 with 2 Axes>"
      ]
     },
     "metadata": {},
     "output_type": "display_data"
    }
   ],
   "source": [
    "# Plot acc-epoch and loss-epoch graphs\n",
    "plt.figure(figsize=(18, 5))\n",
    "\n",
    "plt.subplot(1, 3, 1)\n",
    "plt.plot(range(1, num_epochs + 1), train_acc_list, '-o')\n",
    "plt.title('Training Accuracy vs. Epochs')\n",
    "plt.xlabel('Epoch')\n",
    "plt.ylabel('Training Accuracy')\n",
    "plt.xticks(range(1, num_epochs + 1))\n",
    "\n",
    "plt.subplot(1, 3, 2)\n",
    "plt.plot(range(1, num_epochs + 1), train_loss_list, '-o')\n",
    "plt.title('Training Loss vs. Epochs')\n",
    "plt.xlabel('Epoch')\n",
    "plt.ylabel('Training Loss')\n",
    "plt.xticks(range(1, num_epochs + 1))\n",
    "\n",
    "plt.tight_layout()\n",
    "plt.show()"
   ]
  },
  {
   "cell_type": "code",
   "execution_count": 12,
   "metadata": {},
   "outputs": [
    {
     "data": {
      "text/plain": [
       "<matplotlib.legend.Legend at 0x7f783b3183d0>"
      ]
     },
     "execution_count": 12,
     "metadata": {},
     "output_type": "execute_result"
    },
    {
     "data": {
      "image/png": "[encoded data removed]",
      "text/plain": [
       "<Figure size 640x480 with 1 Axes>"
      ]
     },
     "metadata": {},
     "output_type": "display_data"
    }
   ],
   "source": [
    "# Compute ROC curve and ROC area\n",
    "fpr, tpr, _ = roc_curve(all_labels, all_predictions)\n",
    "roc_auc = auc(fpr, tpr)\n",
    "plt.plot(fpr, tpr, color='darkorange', lw=2, label=f'ROC curve (area = {roc_auc:.2f})')\n",
    "plt.plot([0, 1], [0, 1], color='navy', lw=2, linestyle='--')\n",
    "plt.xlim([0.0, 1.0])\n",
    "plt.ylim([0.0, 1.05])\n",
    "plt.xlabel('False Positive Rate')\n",
    "plt.ylabel('True Positive Rate')\n",
    "plt.title('ROC')\n",
    "plt.legend(loc=\"lower right\")"
   ]
  },
  {
   "cell_type": "code",
   "execution_count": 13,
   "metadata": {},
   "outputs": [
    {
     "name": "stdout",
     "output_type": "stream",
     "text": [
      "Test Accuracy: 99.95%\n"
     ]
    }
   ],
   "source": [
    "# Put the models in evaluation mode\n",
    "client_model.eval()\n",
    "server_model.eval()\n",
    "\n",
    "correct = 0\n",
    "total = 0\n",
    "test_labels = []\n",
    "test_predictions = []\n",
    "\n",
    "# Get predictions on test set\n",
    "for features, labels in test_loader:\n",
    "    features = features.float()\n",
    "    labels = labels.float()\n",
    "\n",
    "    intermediate_features = client_model(features)\n",
    "    outputs = server_model(intermediate_features)\n",
    "\n",
    "    predicted = (outputs > 0.5).float()  # Assuming binary classification\n",
    "    total += labels.size(0)\n",
    "    correct += (predicted == labels).sum().item()\n",
    "\n",
    "    test_labels.extend(labels.cpu().detach().numpy())\n",
    "    test_predictions.extend(outputs.cpu().detach().numpy())\n",
    "\n",
    "accuracy = correct / total\n",
    "print(f\"Test Accuracy: {accuracy * 100:.2f}%\")\n",
    "\n",
    "# Compute ROC curve and ROC area for test set\n",
    "fpr, tpr, _ = roc_curve(test_labels, test_predictions)\n",
    "roc_auc = auc(fpr, tpr)"
   ]
  },
  {
   "cell_type": "code",
   "execution_count": 14,
   "metadata": {},
   "outputs": [
    {
     "data": {
      "image/png": "[encoded data removed]",
      "text/plain": [
       "<Figure size 700x700 with 1 Axes>"
      ]
     },
     "metadata": {},
     "output_type": "display_data"
    }
   ],
   "source": [
    "# Plotting ROC curve for test set\n",
    "plt.figure(figsize=(7, 7))\n",
    "plt.plot(fpr, tpr, color='darkorange', lw=2, label=f'ROC curve (area = {roc_auc:.2f})')\n",
    "plt.plot([0, 1], [0, 1], color='navy', lw=2, linestyle='--')\n",
    "plt.xlim([0.0, 1.0])\n",
    "plt.ylim([0.0, 1.05])\n",
    "plt.xlabel('False Positive Rate')\n",
    "plt.ylabel('True Positive Rate')\n",
    "plt.title('Test ROC Curve')\n",
    "plt.legend(loc=\"lower right\")\n",
    "\n",
    "plt.tight_layout()\n",
    "plt.show()"
   ]
  },
  {
   "cell_type": "markdown",
   "metadata": {},
   "source": [
    "## ExPloit Attack"
   ]
  },
  {
   "cell_type": "code",
   "execution_count": 15,
   "metadata": {},
   "outputs": [],
   "source": [
    "surrogate_model = SurrogateNet(hidden_dim)\n",
    "\n",
    "grad_data = np.load(exp_path + \"/grads.npz\")\n",
    "embeddings, grads, labels = (\n",
    "    torch.tensor(grad_data[\"embeddings\"]),\n",
    "    torch.tensor(grad_data[\"grads\"]),\n",
    "    torch.tensor(grad_data[\"ys\"]),\n",
    ")"
   ]
  },
  {
   "cell_type": "code",
   "execution_count": 16,
   "metadata": {},
   "outputs": [
    {
     "data": {
      "text/plain": [
       "SurrogateNet(\n",
       "  (L2): Linear(in_features=16, out_features=2, bias=True)\n",
       ")"
      ]
     },
     "execution_count": 16,
     "metadata": {},
     "output_type": "execute_result"
    }
   ],
   "source": [
    "surrogate_model"
   ]
  },
  {
   "cell_type": "code",
   "execution_count": 17,
   "metadata": {},
   "outputs": [],
   "source": [
    "indices = torch.arange(embeddings.shape[0]).long()\n",
    "batch_size = 512\n",
    "\n",
    "ds = torch.utils.data.TensorDataset(indices, embeddings, grads, labels)\n",
    "dl = torch.utils.data.DataLoader(\n",
    "    ds,\n",
    "    batch_size=batch_size,\n",
    "    shuffle=True,\n",
    "    pin_memory=True,\n",
    ")\n",
    "ys_logits = (\n",
    "    torch.zeros(grads.shape[0], 2)\n",
    "    .requires_grad_(True)\n",
    ")"
   ]
  },
  {
   "cell_type": "code",
   "execution_count": 18,
   "metadata": {},
   "outputs": [],
   "source": [
    "opt_model = torch.optim.Adam(\n",
    "    surrogate_model.parameters(),\n",
    "    lr=0.002\n",
    ")\n",
    "opt_y = torch.optim.Adam(\n",
    "    [ys_logits],\n",
    "    lr=0.02\n",
    ")"
   ]
  },
  {
   "cell_type": "code",
   "execution_count": 19,
   "metadata": {},
   "outputs": [],
   "source": [
    "from torch.nn.modules.loss import _Loss\n",
    "import torch.nn.functional as F\n",
    "class KlDivLoss(_Loss):\n",
    "    __constants__ = [\"reduction\"]\n",
    "\n",
    "    def __init__(\n",
    "        self,\n",
    "        size_average=None,\n",
    "        reduce=None,\n",
    "        reduction: str = \"mean\",\n",
    "        logits: bool = True,\n",
    "    ) -> None:\n",
    "        super(KlDivLoss, self).__init__(size_average, reduce, reduction)\n",
    "        self.logits = logits\n",
    "        self.eps = 1e-12\n",
    "\n",
    "    def forward(self, pred: torch.Tensor, target: torch.Tensor) -> torch.Tensor:\n",
    "\n",
    "        if self.logits:\n",
    "            pred = torch.softmax(pred, dim=-1)\n",
    "\n",
    "        loss = (-target * torch.log((pred / (target + self.eps)) + self.eps)).sum(\n",
    "            dim=-1\n",
    "        )\n",
    "\n",
    "        if self.reduction == \"mean\":\n",
    "            return loss.mean()\n",
    "        elif self.reduction is None:\n",
    "            return loss\n",
    "        else:\n",
    "            sys.exit(f\"Invalid reduction type: {self.reduction}\")\n",
    "\n",
    "\n",
    "class SoftCrossEntropyLoss(_Loss):\n",
    "    __constants__ = [\"reduction\"]\n",
    "\n",
    "    def __init__(\n",
    "        self,\n",
    "        size_average=None,\n",
    "        reduce=None,\n",
    "        reduction: str = \"mean\",\n",
    "        logits: bool = True,\n",
    "    ) -> None:\n",
    "        super(SoftCrossEntropyLoss, self).__init__(size_average, reduce, reduction)\n",
    "        self.logits = logits\n",
    "        self.eps = 1e-12\n",
    "\n",
    "    def forward(self, pred: torch.Tensor, target: torch.Tensor) -> torch.Tensor:\n",
    "\n",
    "        if self.logits:\n",
    "            loss = (-target * torch.log_softmax(pred, dim=-1)).sum(dim=-1)\n",
    "        else:\n",
    "            loss = (-target * torch.log(pred + self.eps)).sum(dim=-1)\n",
    "\n",
    "        if self.reduction == \"mean\":\n",
    "            return loss.mean()\n",
    "        elif self.reduction is None:\n",
    "            return loss\n",
    "        else:\n",
    "            sys.exit(f\"Invalid reduction type: {self.reduction}\")\n",
    "\n",
    "\n",
    "class EntropyLoss(_Loss):\n",
    "    def __init__(self, logits=True, reduction=\"mean\"):\n",
    "        super(EntropyLoss, self).__init__()\n",
    "        self.logits = logits\n",
    "        self.eps = 1e-12\n",
    "        self.reduction = reduction\n",
    "\n",
    "    def forward(self, x):\n",
    "        if self.logits:\n",
    "            loss = -(F.softmax(x, dim=1) * F.log_softmax(x, dim=1)).sum(dim=-1)\n",
    "        else:\n",
    "            loss = -(x * torch.log(x + self.eps)).sum(dim=-1)\n",
    "\n",
    "        if self.reduction == \"mean\":\n",
    "            return loss.mean()\n",
    "        elif self.reduction is None:\n",
    "            return loss\n",
    "        else:\n",
    "            sys.exit(f\"Invalid reduction type: {self.reduction}\")"
   ]
  },
  {
   "cell_type": "code",
   "execution_count": 20,
   "metadata": {},
   "outputs": [],
   "source": [
    "def get_accuracy(true_labels, pred_labels):\n",
    "    true_labels = true_labels.detach().cpu().numpy()\n",
    "    pred_labels = pred_labels.unsqueeze(-1).detach().cpu().numpy()\n",
    "    pred_labels_mapped = np.ones_like(pred_labels) * -1\n",
    "    n_classes = 1\n",
    "    for i in reversed(range(n_classes + 1)):\n",
    "        label_map = np.bincount(pred_labels[true_labels == i]).argmax()\n",
    "        pred_labels_mapped[pred_labels == label_map] = i\n",
    "    return (pred_labels_mapped == true_labels).astype(float).mean()"
   ]
  },
  {
   "cell_type": "code",
   "execution_count": 21,
   "metadata": {},
   "outputs": [
    {
     "name": "stdout",
     "output_type": "stream",
     "text": [
      "0.9982725143693799\n",
      "0.01271468133593648\n"
     ]
    }
   ],
   "source": [
    "ys_prior = torch.ones([1, 2]) / 2\n",
    "mean_norm = grads.norm(dim=-1).mean().detach().item()\n",
    "n_classes = 2\n",
    "p = 1 - pos / sample_num\n",
    "H_y = -p * np.log(p) - (1 - p) * np.log(1 - p)\n",
    "print(p)\n",
    "print(H_y)"
   ]
  },
  {
   "cell_type": "code",
   "execution_count": 22,
   "metadata": {},
   "outputs": [
    {
     "name": "stderr",
     "output_type": "stream",
     "text": [
      "                                                 \r"
     ]
    },
    {
     "name": "stdout",
     "output_type": "stream",
     "text": [
      "epoch 0-acc:51.97085738111436 loss:61.11494027552583\n"
     ]
    },
    {
     "name": "stderr",
     "output_type": "stream",
     "text": [
      "                                                 \r"
     ]
    },
    {
     "name": "stdout",
     "output_type": "stream",
     "text": [
      "epoch 1-acc:53.72336456801773 loss:55.67181555572647\n"
     ]
    },
    {
     "name": "stderr",
     "output_type": "stream",
     "text": [
      "                                                 \r"
     ]
    },
    {
     "name": "stdout",
     "output_type": "stream",
     "text": [
      "epoch 2-acc:70.3702078167175 loss:55.50448419374201\n"
     ]
    },
    {
     "name": "stderr",
     "output_type": "stream",
     "text": [
      "                                                 \r"
     ]
    },
    {
     "name": "stdout",
     "output_type": "stream",
     "text": [
      "epoch 3-acc:97.86302091334021 loss:54.033349768463275\n"
     ]
    },
    {
     "name": "stderr",
     "output_type": "stream",
     "text": [
      "                                                 \r"
     ]
    },
    {
     "name": "stdout",
     "output_type": "stream",
     "text": [
      "epoch 4-acc:99.71340165463364 loss:43.850233266171855\n"
     ]
    },
    {
     "name": "stderr",
     "output_type": "stream",
     "text": [
      "                                                 \r"
     ]
    },
    {
     "name": "stdout",
     "output_type": "stream",
     "text": [
      "epoch 5-acc:99.78845267616143 loss:28.13648764862608\n"
     ]
    },
    {
     "name": "stderr",
     "output_type": "stream",
     "text": [
      "                                                 \r"
     ]
    },
    {
     "name": "stdout",
     "output_type": "stream",
     "text": [
      "epoch 6-acc:99.8103974192982 loss:17.019967258778387\n"
     ]
    },
    {
     "name": "stderr",
     "output_type": "stream",
     "text": [
      "                                                 \r"
     ]
    },
    {
     "name": "stdout",
     "output_type": "stream",
     "text": [
      "epoch 7-acc:99.8165419473765 loss:11.195367451740488\n"
     ]
    },
    {
     "name": "stderr",
     "output_type": "stream",
     "text": [
      "                                                 \r"
     ]
    },
    {
     "name": "stdout",
     "output_type": "stream",
     "text": [
      "epoch 8-acc:99.81785863196471 loss:8.079429221260174\n"
     ]
    },
    {
     "name": "stderr",
     "output_type": "stream",
     "text": [
      "                                                 \r"
     ]
    },
    {
     "name": "stdout",
     "output_type": "stream",
     "text": [
      "epoch 9-acc:99.81829752682745 loss:6.212754474092492\n"
     ]
    },
    {
     "name": "stderr",
     "output_type": "stream",
     "text": [
      "                                                 \r"
     ]
    },
    {
     "name": "stdout",
     "output_type": "stream",
     "text": [
      "epoch 10-acc:99.81829752682745 loss:5.005686521530151\n"
     ]
    },
    {
     "name": "stderr",
     "output_type": "stream",
     "text": [
      "                                                 \r"
     ]
    },
    {
     "name": "stdout",
     "output_type": "stream",
     "text": [
      "epoch 11-acc:99.81829752682745 loss:4.178403586550144\n"
     ]
    },
    {
     "name": "stderr",
     "output_type": "stream",
     "text": [
      "                                                 \r"
     ]
    },
    {
     "name": "stdout",
     "output_type": "stream",
     "text": [
      "epoch 12-acc:99.81829752682745 loss:3.5872164087979783\n"
     ]
    },
    {
     "name": "stderr",
     "output_type": "stream",
     "text": [
      "                                                 \r"
     ]
    },
    {
     "name": "stdout",
     "output_type": "stream",
     "text": [
      "epoch 13-acc:99.81829752682745 loss:3.1470028044396985\n"
     ]
    },
    {
     "name": "stderr",
     "output_type": "stream",
     "text": [
      "                                                 \r"
     ]
    },
    {
     "name": "stdout",
     "output_type": "stream",
     "text": [
      "epoch 14-acc:99.81829752682745 loss:2.8171822126670802\n"
     ]
    },
    {
     "name": "stderr",
     "output_type": "stream",
     "text": [
      "                                                 \r"
     ]
    },
    {
     "name": "stdout",
     "output_type": "stream",
     "text": [
      "epoch 15-acc:99.81829752682745 loss:2.564698537636231\n"
     ]
    },
    {
     "name": "stderr",
     "output_type": "stream",
     "text": [
      "                                                 \r"
     ]
    },
    {
     "name": "stdout",
     "output_type": "stream",
     "text": [
      "epoch 16-acc:99.81829752682745 loss:2.3681405245455927\n"
     ]
    },
    {
     "name": "stderr",
     "output_type": "stream",
     "text": [
      "                                                 \r"
     ]
    },
    {
     "name": "stdout",
     "output_type": "stream",
     "text": [
      "epoch 17-acc:99.81829752682745 loss:2.2150033950271095\n"
     ]
    },
    {
     "name": "stderr",
     "output_type": "stream",
     "text": [
      "                                                 \r"
     ]
    },
    {
     "name": "stdout",
     "output_type": "stream",
     "text": [
      "epoch 18-acc:99.81829752682745 loss:2.0927483837700747\n"
     ]
    },
    {
     "name": "stderr",
     "output_type": "stream",
     "text": [
      "                                                 "
     ]
    },
    {
     "name": "stdout",
     "output_type": "stream",
     "text": [
      "epoch 19-acc:99.81829752682745 loss:1.9952791311815714\n"
     ]
    },
    {
     "name": "stderr",
     "output_type": "stream",
     "text": [
      "\r"
     ]
    }
   ],
   "source": [
    "from tqdm import tqdm\n",
    "attack_epochs = 20\n",
    "lamb_grad = 1\n",
    "lamb_acc = 1.5\n",
    "lamb_lp = 1\n",
    "criterion_ce_soft = SoftCrossEntropyLoss(reduction=\"mean\")\n",
    "criterion_kl = KlDivLoss(reduction=\"mean\")\n",
    "criterion_entropy =EntropyLoss(logits=False)\n",
    "\n",
    "(\n",
    "    grad_loss_list_all,\n",
    "    acc_loss_list_all,\n",
    "    loss_opt_list_all,\n",
    "    lp_loss_list_all,\n",
    "    acc_list_all,\n",
    ") = ([], [], [], [], [])\n",
    "\n",
    "\n",
    "for epoch in range(attack_epochs):\n",
    "    surrogate_model.train()\n",
    "    (\n",
    "        grad_loss_list,\n",
    "        acc_loss_list,\n",
    "        loss_opt_list,\n",
    "        lp_loss_list,\n",
    "    ) = ([], [], [], [])\n",
    "    for index, p_hat, grad, label in tqdm(\n",
    "        dl, leave=False\n",
    "    ):\n",
    "        batch_size = grad.shape[0]\n",
    "        p_hat.requires_grad = True\n",
    "        opt_model.zero_grad()\n",
    "        opt_y.zero_grad()\n",
    "        ys = torch.softmax(ys_logits, dim=-1)\n",
    "        y = ys[index]\n",
    "\n",
    "        p = surrogate_model(p_hat)\n",
    "        H_label = criterion_entropy(y)\n",
    "\n",
    "        ce_loss = criterion_ce_soft(p, y)\n",
    "        grad_approx = torch.autograd.grad(ce_loss, p_hat, create_graph=True)[0]\n",
    "        grad_loss = (\n",
    "            (grad - grad_approx * batch_size).norm(dim=-1)\n",
    "        ).mean() / mean_norm\n",
    "\n",
    "        acc_loss = ce_loss / H_y\n",
    "\n",
    "        ys_mean = ys.mean(dim=0, keepdims=True)\n",
    "        lp_loss = criterion_kl(ys_prior, ys_mean)\n",
    "        ys_labels = torch.argmax(ys, dim=-1).detach().cpu()\n",
    "        loss = (\n",
    "            lamb_grad * grad_loss\n",
    "            + lamb_acc * acc_loss\n",
    "            + lamb_lp * lp_loss\n",
    "        )\n",
    "\n",
    "        loss_opt = grad_loss + acc_loss + lp_loss\n",
    "        loss.backward()\n",
    "\n",
    "        opt_model.step()\n",
    "        opt_y.step()\n",
    "        \n",
    "        grad_loss_list.append(grad_loss.detach().cpu().item())\n",
    "        acc_loss_list.append(acc_loss.detach().cpu().item())\n",
    "        lp_loss_list.append(lp_loss.detach().cpu().item())\n",
    "        loss_opt_list.append(loss_opt.detach().cpu().item())\n",
    "        \n",
    "    loss_opt_list_all.append(np.mean(loss_opt_list))\n",
    "    grad_loss_list_all.append(np.mean(grad_loss_list))\n",
    "    acc_loss_list_all.append(np.mean(acc_loss_list))\n",
    "    lp_loss_list_all.append(np.mean(lp_loss_list))\n",
    "\n",
    "    acc = get_accuracy(labels.clone(), ys_labels.clone()) * 100\n",
    "    acc_list_all.append(acc)\n",
    "\n",
    "    print(f\"epoch {epoch}-acc:{acc} loss:{np.mean(loss_opt_list)}\")\n",
    "    "
   ]
  },
  {
   "cell_type": "code",
   "execution_count": 23,
   "metadata": {},
   "outputs": [
    {
     "name": "stdout",
     "output_type": "stream",
     "text": [
      "[61.11494027552583, 55.67181555572647, 55.50448419374201, 54.033349768463275, 43.850233266171855, 28.13648764862608, 17.019967258778387, 11.195367451740488, 8.079429221260174, 6.212754474092492, 5.005686521530151, 4.178403586550144, 3.5872164087979783, 3.1470028044396985, 2.8171822126670802, 2.564698537636231, 2.3681405245455927, 2.2150033950271095, 2.0927483837700747, 1.9952791311815714]\n",
      "[51.97085738111436, 53.72336456801773, 70.3702078167175, 97.86302091334021, 99.71340165463364, 99.78845267616143, 99.8103974192982, 99.8165419473765, 99.81785863196471, 99.81829752682745, 99.81829752682745, 99.81829752682745, 99.81829752682745, 99.81829752682745, 99.81829752682745, 99.81829752682745, 99.81829752682745, 99.81829752682745, 99.81829752682745, 99.81829752682745]\n"
     ]
    }
   ],
   "source": [
    "print(loss_opt_list_all)\n",
    "print(acc_list_all)"
   ]
  },
  {
   "cell_type": "code",
   "execution_count": 24,
   "metadata": {},
   "outputs": [
    {
     "data": {
      "text/plain": [
       "([<matplotlib.axis.XTick at 0x7f783b282910>,\n",
       "  <matplotlib.axis.XTick at 0x7f783b282100>,\n",
       "  <matplotlib.axis.XTick at 0x7f783b2d14c0>,\n",
       "  <matplotlib.axis.XTick at 0x7f783b2792b0>,\n",
       "  <matplotlib.axis.XTick at 0x7f783b279be0>,\n",
       "  <matplotlib.axis.XTick at 0x7f78465056d0>,\n",
       "  <matplotlib.axis.XTick at 0x7f754ccb2190>,\n",
       "  <matplotlib.axis.XTick at 0x7f754ccb2d90>,\n",
       "  <matplotlib.axis.XTick at 0x7f7846504b50>,\n",
       "  <matplotlib.axis.XTick at 0x7f75306c15e0>,\n",
       "  <matplotlib.axis.XTick at 0x7f7536264700>,\n",
       "  <matplotlib.axis.XTick at 0x7f753627d3d0>,\n",
       "  <matplotlib.axis.XTick at 0x7f7530d6e730>,\n",
       "  <matplotlib.axis.XTick at 0x7f75306c1e50>,\n",
       "  <matplotlib.axis.XTick at 0x7f75306d2520>,\n",
       "  <matplotlib.axis.XTick at 0x7f75306d2040>,\n",
       "  <matplotlib.axis.XTick at 0x7f75307314c0>,\n",
       "  <matplotlib.axis.XTick at 0x7f75306ceb20>,\n",
       "  <matplotlib.axis.XTick at 0x7f75306d2b50>,\n",
       "  <matplotlib.axis.XTick at 0x7f75306cee80>],\n",
       " [Text(1, 0, '1'),\n",
       "  Text(2, 0, '2'),\n",
       "  Text(3, 0, '3'),\n",
       "  Text(4, 0, '4'),\n",
       "  Text(5, 0, '5'),\n",
       "  Text(6, 0, '6'),\n",
       "  Text(7, 0, '7'),\n",
       "  Text(8, 0, '8'),\n",
       "  Text(9, 0, '9'),\n",
       "  Text(10, 0, '10'),\n",
       "  Text(11, 0, '11'),\n",
       "  Text(12, 0, '12'),\n",
       "  Text(13, 0, '13'),\n",
       "  Text(14, 0, '14'),\n",
       "  Text(15, 0, '15'),\n",
       "  Text(16, 0, '16'),\n",
       "  Text(17, 0, '17'),\n",
       "  Text(18, 0, '18'),\n",
       "  Text(19, 0, '19'),\n",
       "  Text(20, 0, '20')])"
      ]
     },
     "execution_count": 24,
     "metadata": {},
     "output_type": "execute_result"
    },
    {
     "data": {
      "image/png": "[encoded data removed]",
      "text/plain": [
       "<Figure size 1800x500 with 2 Axes>"
      ]
     },
     "metadata": {},
     "output_type": "display_data"
    }
   ],
   "source": [
    "# Plot acc-epoch and loss-epoch graphs\n",
    "plt.figure(figsize=(18, 5))\n",
    "\n",
    "plt.subplot(1, 3, 1)\n",
    "plt.plot(range(1, attack_epochs + 1), acc_list_all, '-o')\n",
    "plt.title('Training Accuracy vs. Epochs')\n",
    "plt.xlabel('Epoch')\n",
    "plt.ylabel('Training Accuracy')\n",
    "plt.xticks(range(1, attack_epochs + 1))\n",
    "\n",
    "plt.subplot(1, 3, 2)\n",
    "plt.plot(range(1, attack_epochs + 1), loss_opt_list_all, '-o')\n",
    "plt.title('Training Loss vs. Epochs')\n",
    "plt.xlabel('Epoch')\n",
    "plt.ylabel('Training Loss')\n",
    "plt.xticks(range(1, attack_epochs + 1))"
   ]
  },
  {
   "cell_type": "code",
   "execution_count": 25,
   "metadata": {},
   "outputs": [
    {
     "name": "stdout",
     "output_type": "stream",
     "text": [
      "Test Accuracy: 0.14%\n",
      "0.5\n"
     ]
    }
   ],
   "source": [
    "# Put the models in evaluation mode\n",
    "client_model.eval()\n",
    "surrogate_model.eval()\n",
    "\n",
    "correct = 0\n",
    "total = 0\n",
    "test_labels = []\n",
    "test_predictions = []\n",
    "import torch\n",
    "\n",
    "# Get predictions on test set\n",
    "for features, labels in test_loader:\n",
    "    features = features.float()\n",
    "    labels = labels.float()\n",
    "\n",
    "    intermediate_features = client_model(features)\n",
    "    outputs = surrogate_model(intermediate_features)\n",
    "    probabilities = torch.softmax(outputs, dim=1)\n",
    "    predicted = 1 - torch.argmax(probabilities, dim=1).float()\n",
    "    total += labels.size(0)\n",
    "    correct += (predicted == labels.view(-1)).sum().item()\n",
    "\n",
    "    test_labels.extend(labels.cpu().detach().numpy())\n",
    "    test_predictions.extend(predicted.cpu().detach().numpy())\n",
    "\n",
    "accuracy = correct / total\n",
    "print(f\"Test Accuracy: {accuracy * 100:.2f}%\")\n",
    "\n",
    "# Compute ROC curve and ROC area for test set\n",
    "fpr, tpr, _ = roc_curve(test_labels, test_predictions)\n",
    "roc_auc = auc(fpr, tpr)\n",
    "print(roc_auc)"
   ]
  },
  {
   "cell_type": "code",
   "execution_count": 26,
   "metadata": {},
   "outputs": [
    {
     "data": {
      "image/png": "[encoded data removed]",
      "text/plain": [
       "<Figure size 640x480 with 1 Axes>"
      ]
     },
     "metadata": {},
     "output_type": "display_data"
    }
   ],
   "source": [
    "# Compute ROC curve and ROC area\n",
    "plt.plot(fpr, tpr, color='darkorange', lw=2, label=f'ROC curve (area = {roc_auc:.2f})')\n",
    "plt.plot([0, 1], [0, 1], color='navy', lw=2, linestyle='--')\n",
    "plt.xlim([0.0, 1.0])\n",
    "plt.ylim([0.0, 1.05])\n",
    "plt.xlabel('False Positive Rate')\n",
    "plt.ylabel('True Positive Rate')\n",
    "plt.title('ROC')\n",
    "plt.legend(loc=\"lower right\")\n",
    "plt.show()"
   ]
  },
  {
   "cell_type": "code",
   "execution_count": null,
   "metadata": {},
   "outputs": [],
   "source": []
  }
 ],
 "metadata": {
  "colab": {
   "provenance": []
  },
  "kernelspec": {
   "display_name": "sf",
   "language": "python",
   "name": "python3"
  },
  "language_info": {
   "codemirror_mode": {
    "name": "ipython",
    "version": 3
   },
   "file_extension": ".py",
   "mimetype": "text/x-python",
   "name": "python",
   "nbconvert_exporter": "python",
   "pygments_lexer": "ipython3",
   "version": "3.9.17"
  }
 },
 "nbformat": 4,
 "nbformat_minor": 1
}
